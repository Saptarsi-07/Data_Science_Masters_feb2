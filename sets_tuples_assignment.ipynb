{
 "cells": [
  {
   "cell_type": "code",
   "execution_count": 1,
   "id": "ed618afd-c1a3-470a-be2f-6fffe95243e0",
   "metadata": {},
   "outputs": [],
   "source": [
    "## Q1)\n",
    "# Tuples are the data structures in python which can store data of different types. They are ordered and immutable in nature. They support duplicate elements"
   ]
  },
  {
   "cell_type": "code",
   "execution_count": 7,
   "id": "6e6a486d-7e55-49fb-a912-6d4d42b78bfc",
   "metadata": {},
   "outputs": [
    {
     "name": "stdout",
     "output_type": "stream",
     "text": [
      "3\n",
      "7\n"
     ]
    }
   ],
   "source": [
    "## Q2)\n",
    "# The two function in case of a tuple are count() and index()\n",
    "# count() returns the number of times a  specified value occurs in a tuple\n",
    "# index() returns the index of a specified value in tuple if present\n",
    "\n",
    "tuple1=(1,2,2,4,3,3,1,5,3)\n",
    "print(tuple1.count(3))\n",
    "print(tuple1.index(5))"
   ]
  },
  {
   "cell_type": "code",
   "execution_count": 8,
   "id": "346e9c08-2c2f-46be-98cb-1f01af35956d",
   "metadata": {},
   "outputs": [
    {
     "data": {
      "text/plain": [
       "{1, 2, 3, 4}"
      ]
     },
     "execution_count": 8,
     "metadata": {},
     "output_type": "execute_result"
    }
   ],
   "source": [
    "## Q3)\n",
    "# Sets don't allow duplicate items to be stored\n",
    "List1 = [1, 1, 1, 2, 1, 3, 1, 4, 2, 1, 2, 2, 2, 3, 2, 4, 3, 1, 3, 2, 3, 3, 3, 4, 4, 1, 4, 2, 4, 3, 4, 4]\n",
    "#typecasting\n",
    "set(List1)"
   ]
  },
  {
   "cell_type": "code",
   "execution_count": 19,
   "id": "4b9c29eb-1932-4f4e-967f-2f6af42dfe14",
   "metadata": {},
   "outputs": [
    {
     "name": "stdout",
     "output_type": "stream",
     "text": [
      "{1, 2, 3, 4}\n",
      "{1, 2, 3, 4, 5, 6, 7, 8}\n"
     ]
    }
   ],
   "source": [
    "## Q4)\n",
    "# Both union() and update() performs union operation on sets\n",
    "# update() adds elements of the new set to existing set\n",
    "# union() creates a new set with elements of the given two sets\n",
    "\n",
    "set1={1,2,3,4}\n",
    "set2={5,6,7,8}\n",
    "\n",
    "\n",
    "set1.union(set2)\n",
    "print(set1)\n",
    "\n",
    "set1.update(set2)\n",
    "print(set1)\n",
    "\n"
   ]
  },
  {
   "cell_type": "code",
   "execution_count": 23,
   "id": "11b6fa0f-5f7e-4fd1-a3c2-26cf9cf5e325",
   "metadata": {},
   "outputs": [
    {
     "name": "stdout",
     "output_type": "stream",
     "text": [
      "{'name': 'saptarsi', 'age': 21}\n"
     ]
    }
   ],
   "source": [
    "## Q5)\n",
    "# Dictionaries are the data structures that stores key:value pairs. They are unordered and mutable. They don't allow duplicates\n",
    "dict1={\"name\":\"saptarsi\",\"age\":21}\n",
    "print(dict1)"
   ]
  },
  {
   "cell_type": "code",
   "execution_count": 27,
   "id": "cc789fc5-99f9-4354-97cc-d4fb8d4b087f",
   "metadata": {},
   "outputs": [],
   "source": [
    "## Q6)\n",
    "# Yes we can create nested dictionaries \n",
    "dict2={\"name\":\"raj\",\"age\":42,\"dict3\":{\"place\":\"kolkata\"}}"
   ]
  },
  {
   "cell_type": "code",
   "execution_count": 35,
   "id": "9b44c41c-acfc-4956-a37a-8fd90b305c5d",
   "metadata": {},
   "outputs": [
    {
     "name": "stdout",
     "output_type": "stream",
     "text": [
      "{'language': 'Python', 'course': 'Data Science Masters', 'name': ['Python', 'Machine Learning', 'Deep Learning']}\n"
     ]
    }
   ],
   "source": [
    "## Q7)\n",
    "dict1 = {'language' : 'Python', 'course': 'Data Science Masters'}\n",
    "dict1.setdefault(\"name\",[\"Python\",\"Machine Learning\",\"Deep Learning\"])\n",
    "print(dict1)"
   ]
  },
  {
   "cell_type": "code",
   "execution_count": 36,
   "id": "0ff430ba-abb1-4862-ab7a-4f8d5b419052",
   "metadata": {},
   "outputs": [
    {
     "name": "stdout",
     "output_type": "stream",
     "text": [
      "dict_keys(['Sport', 'Teams'])\n",
      "dict_values(['Cricket', ['India', 'Australia', 'England', 'South Africa', 'Sri Lanka', 'New Zealand']])\n",
      "dict_items([('Sport', 'Cricket'), ('Teams', ['India', 'Australia', 'England', 'South Africa', 'Sri Lanka', 'New Zealand'])])\n"
     ]
    }
   ],
   "source": [
    "## Q8)\n",
    "# The three view objects of a dictionary are : keys,values and items\n",
    "dict1 = {'Sport': 'Cricket' , 'Teams': ['India', 'Australia', 'England', 'South Africa', 'Sri Lanka', 'New Zealand']}\n",
    "print(dict1.keys())\n",
    "print(dict1.values())\n",
    "print(dict1.items())"
   ]
  }
 ],
 "metadata": {
  "kernelspec": {
   "display_name": "Python 3 (ipykernel)",
   "language": "python",
   "name": "python3"
  },
  "language_info": {
   "codemirror_mode": {
    "name": "ipython",
    "version": 3
   },
   "file_extension": ".py",
   "mimetype": "text/x-python",
   "name": "python",
   "nbconvert_exporter": "python",
   "pygments_lexer": "ipython3",
   "version": "3.10.8"
  }
 },
 "nbformat": 4,
 "nbformat_minor": 5
}
